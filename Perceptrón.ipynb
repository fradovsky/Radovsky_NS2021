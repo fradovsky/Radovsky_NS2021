{
 "cells": [
  {
   "cell_type": "code",
   "execution_count": null,
   "metadata": {},
   "outputs": [],
   "source": [
    "import numpy as np\n",
    "class Perceptron():   \n",
    "    def __init__(self, rychlost_ucenia=0.01, pocet_iteracii=10):\n",
    "        self.eta = rychlost_ucenia \n",
    "        self.n_iter = pocet_iteracii      \n",
    "    \n",
    "    def fit(self, X,y):\n",
    "        self.vahy = np.zeros(1+ X.shape[1])\n",
    "        self.errors_=[]\n",
    "        \n",
    "        for i in range(self.n_iter):\n",
    "            errors = 0\n",
    "            for matica,vystup in zip(X,y):\n",
    "                update = self.eta * (vystup-self.predikcia(matica))\n",
    "                self.vahy[1:] += update*matica\n",
    "                self.vahy[0]+= update\n",
    "                errors += int(update !=0.0)\n",
    "            self.errors_.append(errors)        \n",
    "        return self  \n",
    "\n",
    "    def net_input(self, X):\n",
    "        return np.dot(X, self.vahy[1:])+ self.vahy[0]\n",
    "\n",
    "    def predikcia(self, X):\n",
    "        return np.where(self.net_input(X) >= 0.0, 1, -1)"
   ]
  }
 ],
 "metadata": {
  "kernelspec": {
   "display_name": "Python 3",
   "language": "python",
   "name": "python3"
  },
  "language_info": {
   "codemirror_mode": {
    "name": "ipython",
    "version": 3
   },
   "file_extension": ".py",
   "mimetype": "text/x-python",
   "name": "python",
   "nbconvert_exporter": "python",
   "pygments_lexer": "ipython3",
   "version": "3.8.5"
  }
 },
 "nbformat": 4,
 "nbformat_minor": 4
}
